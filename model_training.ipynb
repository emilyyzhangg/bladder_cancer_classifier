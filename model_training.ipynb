{
 "cells": [
  {
   "cell_type": "code",
   "execution_count": null,
   "metadata": {},
   "outputs": [],
   "source": [
    "# imports\n",
    "import pandas as pd\n",
    "import numpy as np\n",
    "import pickle\n",
    "from sklearn.model_selection import train_test_split, cross_val_score\n",
    "from sklearn.preprocessing import OneHotEncoder, LabelEncoder\n",
    "from sklearn.impute import KNNImputer\n",
    "from sklearn.ensemble import RandomForestClassifier, VotingClassifier, GradientBoostingClassifier\n",
    "from sklearn.svm import SVC\n",
    "from sklearn.neighbors import KNeighborsClassifier\n",
    "from sklearn.linear_model import LogisticRegression, LassoCV, ElasticNetCV\n",
    "from xgboost import XGBClassifier\n",
    "from sklearn.metrics import confusion_matrix, classification_report, roc_curve, roc_auc_score, accuracy_score, recall_score, precision_score, f1_score\n",
    "import matplotlib.pyplot as plt\n",
    "import seaborn as sns\n",
    "from lifelines import KaplanMeierFitter\n",
    "import optuna\n"
   ]
  },
  {
   "cell_type": "markdown",
   "metadata": {},
   "source": [
    "Importing the data and pre-processing"
   ]
  },
  {
   "cell_type": "code",
   "execution_count": 21,
   "metadata": {},
   "outputs": [
    {
     "name": "stderr",
     "output_type": "stream",
     "text": [
      "/var/folders/vx/fpmf15096617bm5hj9zlgpn80000gn/T/ipykernel_6730/2196157171.py:1: DtypeWarning: Columns (9) have mixed types. Specify dtype option on import or set low_memory=False.\n",
      "  df = pd.read_csv(\"./data/UROMOL_TaLG.teachingcohort.csv\")\n"
     ]
    }
   ],
   "source": [
    "df = pd.read_csv(\"./data/UROMOL_TaLG.teachingcohort.csv\")\n",
    "first_column = df.columns[0]\n",
    "df = df.drop([first_column], axis=1)\n",
    "\n",
    "# drop columns without target featurre\n",
    "df = df.dropna(subset=[\"Recurrence\", \"RFS_time\"])\n",
    "\n",
    "# Define target variable based on recurrence status\n",
    "df[\"risk_group\"] = \"No Recurrence\"\n",
    "df.loc[df[\"Recurrence\"] == 1, \"risk_group\"] = pd.qcut(\n",
    "    df.loc[df[\"Recurrence\"] == 1, \"RFS_time\"], \n",
    "    q=[0, 0.5, 1], \n",
    "    labels=[\"Low\", \"High\"]\n",
    ")"
   ]
  },
  {
   "cell_type": "code",
   "execution_count": 22,
   "metadata": {},
   "outputs": [],
   "source": [
    "# removing all columns with only one value\n",
    "constant_cols = [col for col in df.columns if df[col].nunique() == 1]\n",
    "df = df.drop(columns=constant_cols)"
   ]
  },
  {
   "cell_type": "code",
   "execution_count": 23,
   "metadata": {},
   "outputs": [],
   "source": [
    "# Drop unnecessary columns (e.g., patient IDs)\n",
    "df = df.drop(columns=[\"UROMOL.ID\", \"Progression\", \"PFS_time.\"], errors=\"ignore\")\n",
    "\n",
    "# Separate features and target\n",
    "y = df[\"risk_group\"] \n",
    "X = df.drop(columns=[\"risk_group\", \"RFS_time\", \"Recurrence\"])  # Features # Target"
   ]
  },
  {
   "cell_type": "code",
   "execution_count": 24,
   "metadata": {},
   "outputs": [],
   "source": [
    "categorical_cols = X.select_dtypes(include=[\"object\", \"category\"]).columns.tolist()\n",
    "numerical_cols = X.select_dtypes(include=[\"number\"]).columns.tolist()\n",
    "\n",
    "# One-hot encode categorical variables\n",
    "encoder = OneHotEncoder(handle_unknown=\"ignore\")\n",
    "X_encoded = pd.DataFrame(encoder.fit_transform(X[categorical_cols]))\n",
    "\n",
    "X_encoded = pd.DataFrame(\n",
    "    encoder.fit_transform(X[categorical_cols]).toarray(),  \n",
    "    columns=encoder.get_feature_names_out(categorical_cols)  \n",
    ")\n",
    "X_encoded.index = X.index\n",
    "\n",
    "X_encoded = X_encoded.rename(columns={\n",
    "    'Tumor.size_< 3 cm': 'Tumor.size_less_three',\n",
    "    'Tumor.size_>= 3 cm': 'Tumor.size_more_three'\n",
    "})\n",
    "\n",
    "# Combine encoded categorical and numerical features\n",
    "X_processed = pd.concat([X_encoded, df[numerical_cols]], axis=1)"
   ]
  },
  {
   "cell_type": "code",
   "execution_count": 25,
   "metadata": {},
   "outputs": [],
   "source": [
    "# KNN Imputation for missing values\n",
    "imputer = KNNImputer(n_neighbors=5)\n",
    "X_imputed = imputer.fit_transform(X_processed)\n",
    "X_processed_imputed = pd.DataFrame(X_imputed, columns=X_processed.columns)"
   ]
  },
  {
   "cell_type": "markdown",
   "metadata": {},
   "source": [
    "Checking for missing values after imputation"
   ]
  },
  {
   "cell_type": "code",
   "execution_count": 26,
   "metadata": {},
   "outputs": [
    {
     "name": "stdout",
     "output_type": "stream",
     "text": [
      "0\n"
     ]
    }
   ],
   "source": [
    "na_count = X_processed_imputed.isna().any(axis=1).sum()\n",
    "print(na_count)"
   ]
  },
  {
   "cell_type": "code",
   "execution_count": 27,
   "metadata": {},
   "outputs": [],
   "source": [
    "label_encoder = LabelEncoder()\n",
    "y_encoded = label_encoder.fit_transform(y)\n",
    "\n",
    "# Train-test split (80-20)\n",
    "X_train, X_test, y_train, y_test = train_test_split(X_processed_imputed, y_encoded, test_size=0.2, random_state=42, stratify=y)"
   ]
  },
  {
   "cell_type": "markdown",
   "metadata": {},
   "source": [
    "## Lasso Regression"
   ]
  },
  {
   "cell_type": "code",
   "execution_count": null,
   "metadata": {},
   "outputs": [],
   "source": [
    "# for optuna\n",
    "def objective(trial):\n",
    "    eps = trial.suggest_loguniform(\"eps\", 1e-4, 1.0)\n",
    "    model = LassoCV(eps=eps, random_state=43)\n",
    "    return cross_val_score(model, X_train, y_train, cv=5, scoring='neg_mean_squared_error').mean()\n",
    "\n",
    "study = optuna.create_study(direction='maximize')\n",
    "study.optimize(objective, n_trials=30)\n",
    "\n",
    "# get best eps\n",
    "best_eps = study.best_params['eps']\n",
    "\n",
    "# train lasso with best eps\n",
    "lasso = LassoCV(alpha=best_eps, random_state=43)\n",
    "lasso.fit(X_train, y_train)\n",
    "\n",
    "# predictions\n",
    "y_pred_lasso = lasso.predict(X_test)\n",
    "y_pred_lasso_proba = lasso.predict_proba(X_test)"
   ]
  },
  {
   "cell_type": "markdown",
   "metadata": {},
   "source": [
    "## Elastic Net"
   ]
  },
  {
   "cell_type": "code",
   "execution_count": null,
   "metadata": {},
   "outputs": [],
   "source": [
    "def objective(trial):\n",
    "    alpha = trial.suggest_loguniform(\"alpha\", 1e-5, 10)\n",
    "    l1_ratio = trial.suggest_float(\"l1_ratio\", 0.1, 1.0)\n",
    "\n",
    "    elastic_net = ElasticNetCV(alpha=alpha, l1_ratio=l1_ratio, random_state=43)\n",
    "    score = cross_val_score(elastic_net, X_train, y_train, cv=5, scoring=\"neg_mean_squared_error\").mean()\n",
    "    \n",
    "    return score\n",
    "\n",
    "study = optuna.create_study(direction=\"maximize\")\n",
    "study.optimize(objective, n_trials=50)\n",
    "\n",
    "best_params = study.best_params\n",
    "\n",
    "elastic_net = ElasticNetCV(alpha=best_params[\"alpha\"], l1_ratio=best_params[\"l1_ratio\"], random_state=43)\n",
    "elastic_net.fit(X_train, y_train)\n",
    "\n",
    "y_pred_en = elastic_net.predict(X_test)\n",
    "y_pred_en_proba = elastic_net.predict_proba(X_test)"
   ]
  },
  {
   "cell_type": "markdown",
   "metadata": {},
   "source": [
    "## Random Forest"
   ]
  },
  {
   "cell_type": "code",
   "execution_count": null,
   "metadata": {},
   "outputs": [],
   "source": [
    "def objective(trial):\n",
    "    n_estimators = trial.suggest_int(\"n_estimators\", 50, 500)\n",
    "    max_depth = trial.suggest_int(\"max_depth\", 3, 30)\n",
    "    min_samples_split = trial.suggest_int(\"min_samples_split\", 2, 10)\n",
    "    min_samples_leaf = trial.suggest_int(\"min_samples_leaf\", 1, 5)\n",
    "    max_features = trial.suggest_categorical(\"max_features\", [\"sqrt\", \"log2\", None])\n",
    "\n",
    "    random_forest = RandomForestClassifier(\n",
    "        n_estimators=n_estimators,\n",
    "        max_depth=max_depth,\n",
    "        min_samples_split=min_samples_split,\n",
    "        min_samples_leaf=min_samples_leaf,\n",
    "        max_features=max_features,\n",
    "        random_state=43,\n",
    "        n_jobs=-1\n",
    "    )\n",
    "\n",
    "    score = cross_val_score(random_forest, X_train, y_train, cv=5, scoring=\"accuracy\").mean()\n",
    "    \n",
    "    return score\n",
    "\n",
    "study = optuna.create_study(direction=\"maximize\")\n",
    "study.optimize(objective, n_trials=50)\n",
    "\n",
    "best_params = study.best_params\n",
    "random_forest = RandomForestClassifier(**best_params, random_state=43, n_jobs=-1)\n",
    "random_forest.fit(X_train, y_train)\n",
    "\n",
    "y_pred_rf = random_forest.predict(X_test)\n",
    "y_pred_rf_proba = random_forest.predict_proba(X_test)"
   ]
  },
  {
   "cell_type": "markdown",
   "metadata": {},
   "source": [
    "## GBM"
   ]
  },
  {
   "cell_type": "code",
   "execution_count": null,
   "metadata": {},
   "outputs": [],
   "source": [
    "def objective_gbm(trial):\n",
    "    n_estimators = trial.suggest_int(\"n_estimators\", 50, 500)\n",
    "    learning_rate = trial.suggest_loguniform(\"learning_rate\", 0.01, 0.5)\n",
    "    max_depth = trial.suggest_int(\"max_depth\", 3, 15)\n",
    "    min_samples_split = trial.suggest_int(\"min_samples_split\", 2, 10)\n",
    "    min_samples_leaf = trial.suggest_int(\"min_samples_leaf\", 1, 5)\n",
    "    subsample = trial.suggest_float(\"subsample\", 0.5, 1.0)\n",
    "    max_features = trial.suggest_categorical(\"max_features\", [\"sqrt\", \"log2\", None])\n",
    "\n",
    "    gbm = GradientBoostingClassifier(\n",
    "        n_estimators=n_estimators,\n",
    "        learning_rate=learning_rate,\n",
    "        max_depth=max_depth,\n",
    "        min_samples_split=min_samples_split,\n",
    "        min_samples_leaf=min_samples_leaf,\n",
    "        subsample=subsample,\n",
    "        max_features=max_features,\n",
    "        random_state=43\n",
    "    )\n",
    "\n",
    "    score = cross_val_score(gbm, X_train, y_train, cv=5, scoring=\"accuracy\").mean()\n",
    "    return score\n",
    "\n",
    "study_gbm = optuna.create_study(direction=\"maximize\")\n",
    "study_gbm.optimize(objective_gbm, n_trials=50)\n",
    "\n",
    "best_params_gbm = study_gbm.best_params\n",
    "gbm = GradientBoostingClassifier(**best_params_gbm, random_state=43)\n",
    "gbm.fit(X_train, y_train)\n",
    "\n",
    "y_pred_gbm = gbm.predict(X_test)\n",
    "y_pred_gbm_proba = gbm.predict_proba(X_test)"
   ]
  },
  {
   "cell_type": "markdown",
   "metadata": {},
   "source": [
    "## XGBoost"
   ]
  },
  {
   "cell_type": "code",
   "execution_count": null,
   "metadata": {},
   "outputs": [],
   "source": [
    "def objective(trial):\n",
    "    n_estimators = trial.suggest_int(\"n_estimators\", 50, 500)\n",
    "    learning_rate = trial.suggest_loguniform(\"learning_rate\", 0.01, 0.5)\n",
    "    max_depth = trial.suggest_int(\"max_depth\", 3, 15)\n",
    "    min_child_weight = trial.suggest_int(\"min_child_weight\", 1, 10)\n",
    "    gamma = trial.suggest_loguniform(\"gamma\", 1e-8, 10.0)\n",
    "    subsample = trial.suggest_float(\"subsample\", 0.5, 1.0)\n",
    "    colsample_bytree = trial.suggest_float(\"colsample_bytree\", 0.5, 1.0)\n",
    "\n",
    "    xgb = XGBClassifier(\n",
    "        n_estimators=n_estimators,\n",
    "        learning_rate=learning_rate,\n",
    "        max_depth=max_depth,\n",
    "        min_child_weight=min_child_weight,\n",
    "        gamma=gamma,\n",
    "        subsample=subsample,\n",
    "        colsample_bytree=colsample_bytree,\n",
    "        use_label_encoder=False,\n",
    "        eval_metric=\"logloss\",\n",
    "        random_state=43\n",
    "    )\n",
    "\n",
    "    score = cross_val_score(xgb, X_train, y_train, cv=5, scoring=\"accuracy\").mean()\n",
    "    \n",
    "    return score\n",
    "\n",
    "study = optuna.create_study(direction=\"maximize\")\n",
    "study.optimize(objective, n_trials=50)\n",
    "\n",
    "best_params = study.best_params\n",
    "\n",
    "xgb = XGBClassifier(**best_params, use_label_encoder=False, eval_metric=\"logloss\", random_state=43)\n",
    "xgb.fit(X_train, y_train)\n",
    "\n",
    "y_pred_xgb = xgb.predict(X_test)\n",
    "y_pred_xgb_proba = xgb.predict_proba(X_test)"
   ]
  },
  {
   "cell_type": "markdown",
   "metadata": {},
   "source": [
    "## Creating the ensemble"
   ]
  },
  {
   "cell_type": "code",
   "execution_count": null,
   "metadata": {},
   "outputs": [],
   "source": [
    "model_results = {\n",
    "    \"Lasso\":         (y_pred_lasso,  y_pred_lasso_proba),\n",
    "    \"ElasticNet\":    (y_pred_en,    y_pred_en_proba),\n",
    "    \"RandomForest\":  (y_pred_rf,       y_pred_rf_proba),\n",
    "    \"GBM\":           (y_pred_gbm,      y_pred_gbm_proba),\n",
    "    \"XGBoost\":       (y_pred_xgb,      y_pred_xgb_proba)\n",
    "}\n",
    "\n",
    "performance_data = []\n",
    "\n",
    "for model_name, (preds, scores) in model_results.items():\n",
    "    # accuracy\n",
    "    acc = accuracy_score(y_test, preds)\n",
    "\n",
    "    # AUC \n",
    "    auc_val = roc_auc_score(y_test, scores)\n",
    "\n",
    "    # sensitivity - recall for the positive class\n",
    "    sens = recall_score(y_test, preds, pos_label=1)\n",
    "\n",
    "    performance_data.append({\n",
    "        'Model': model_name,\n",
    "        'Accuracy': acc,\n",
    "        'AUC': auc_val,\n",
    "        'Sensitivity': sens\n",
    "    })\n",
    "\n",
    "perf_df = pd.DataFrame(performance_data)\n",
    "print(\"=== Model Performance Summary ===\")\n",
    "display(perf_df)\n",
    "\n",
    "\n",
    "model_names = perf_df['Model'].tolist()\n",
    "\n",
    "# set up majority vote ensemble among chosen models\n",
    "def ensemble_vote(models_list, model_results_dict, threshold):\n",
    "    sum_preds = np.zeros_like(y_test, dtype=int)\n",
    "    for m in models_list:\n",
    "        sum_preds += model_results_dict[m][0] \n",
    "\n",
    "    return (sum_preds >= threshold).astype(int)\n",
    "\n",
    "# majority is 3 votes or more.\n",
    "ensemble_sens_pred = ensemble_vote(model_names, model_results, threshold=3)\n",
    "\n",
    "# evaluate the ensemble\n",
    "def evaluate_ensemble(ensemble_name, ensemble_pred, model_names):\n",
    "    print(f\"\\n{ensemble_name} Ensemble\")\n",
    "    print(\"Using models:\", model_names)\n",
    "\n",
    "    # Confusion Matrix\n",
    "    cm = confusion_matrix(y_test, ensemble_pred)\n",
    "    plt.figure(figsize=(5,4))\n",
    "    sns.heatmap(cm, annot=True, fmt='d', cmap='Blues')\n",
    "    plt.title(f\"{ensemble_name} Ensemble Confusion Matrix\")\n",
    "    plt.xlabel(\"Predicted\")\n",
    "    plt.ylabel(\"Actual\")\n",
    "    plt.show()\n",
    "\n",
    "    # Classification Report\n",
    "    print(classification_report(y_test, ensemble_pred))\n",
    "\n",
    "    # Approximate Probability for ROC:\n",
    "    sum_preds = np.zeros_like(y_test, dtype=int)\n",
    "    for m in model_names:\n",
    "        sum_preds += model_results[m][0]\n",
    "    ensemble_score = sum_preds / 5.0\n",
    "\n",
    "    fpr, tpr, _ = roc_curve(y_test, ensemble_score)\n",
    "    auc_val = roc_auc_score(y_test, ensemble_score)\n",
    "    plt.figure(figsize=(6,5))\n",
    "    plt.plot(fpr, tpr, label=f\"{ensemble_name} (AUC={auc_val:.3f})\")\n",
    "    plt.plot([0,1],[0,1],'k--')\n",
    "    plt.title(f\"{ensemble_name} Ensemble ROC Curve\")\n",
    "    plt.xlabel(\"False Positive Rate\")\n",
    "    plt.ylabel(\"True Positive Rate\")\n",
    "    plt.legend()\n",
    "    plt.show()\n",
    "\n",
    "evaluate_ensemble(\"Top-5 by Sensitivity\", ensemble_sens_pred, best5_sens_names)\n"
   ]
  },
  {
   "cell_type": "code",
   "execution_count": null,
   "metadata": {},
   "outputs": [],
   "source": [
    "# Define individual models\n",
    "models = {\n",
    "    \"EN\": LogisticRegression(penalty='l2', max_iter=500),\n",
    "    \"SVM\": SVC(probability=True),\n",
    "    \"KNN\": KNeighborsClassifier(n_neighbors=5),\n",
    "    \"RF\": RandomForestClassifier(n_estimators=100),\n",
    "    \"XGB\": XGBClassifier(use_label_encoder=False, eval_metric=\"logloss\")\n",
    "}\n",
    "\n",
    "# Train models\n",
    "for name, model in models.items():\n",
    "    model.fit(X_train, y_train)\n",
    "\n",
    "# Ensemble: Voting Classifier (Soft Voting for Confidence Scores)\n",
    "ensemble = VotingClassifier(estimators=list(models.items()), voting=\"soft\")\n",
    "ensemble.fit(X_train, y_train)\n",
    "\n",
    "# Predictions & Confidence Scores\n",
    "y_pred = ensemble.predict(X_test)\n",
    "y_prob = ensemble.predict_proba(X_test)  # Confidence values\n",
    "\n",
    "y_pred_decoded = label_encoder.inverse_transform(y_pred)\n",
    "y_test_decoded = label_encoder.inverse_transform(y_test)\n",
    "\n",
    "# Convert confidence scores to dictionary for better interpretation\n",
    "confidence_scores = [\n",
    "    {category: prob for category, prob in zip(ensemble.classes_, probs)}\n",
    "    for probs in y_prob\n",
    "]"
   ]
  },
  {
   "cell_type": "code",
   "execution_count": 19,
   "metadata": {},
   "outputs": [
    {
     "name": "stdout",
     "output_type": "stream",
     "text": [
      "Confusion Matrix:\n",
      " [[11  7  1]\n",
      " [ 9  9  1]\n",
      " [ 4  3 11]]\n",
      "\n",
      "Classification Report:\n",
      "                precision    recall  f1-score   support\n",
      "\n",
      "         High       0.46      0.58      0.51        19\n",
      "          Low       0.47      0.47      0.47        19\n",
      "No Recurrence       0.85      0.61      0.71        18\n",
      "\n",
      "     accuracy                           0.55        56\n",
      "    macro avg       0.59      0.55      0.56        56\n",
      " weighted avg       0.59      0.55      0.56        56\n",
      "\n",
      "ROC-AUC Score: 0.7132132132132133\n"
     ]
    },
    {
     "data": {
      "image/png": "[encoded data removed]",
      "text/plain": [
       "<Figure size 600x400 with 2 Axes>"
      ]
     },
     "metadata": {},
     "output_type": "display_data"
    }
   ],
   "source": [
    "# Evaluate Performance\n",
    "print(\"Confusion Matrix:\\n\", confusion_matrix(y_test_decoded, y_pred_decoded))\n",
    "print(\"\\nClassification Report:\\n\", classification_report(y_test_decoded, y_pred_decoded))\n",
    "print(\"ROC-AUC Score:\", roc_auc_score(pd.get_dummies(y_test_decoded), y_prob, multi_class=\"ovr\"))\n",
    "\n",
    "# Plot Confusion Matrix\n",
    "plt.figure(figsize=(6, 4))\n",
    "sns.heatmap(confusion_matrix(y_test_decoded, y_pred_decoded), annot=True, fmt=\"d\", cmap=\"Blues\", xticklabels=ensemble.classes_, yticklabels=ensemble.classes_)\n",
    "plt.xlabel(\"Predicted\")\n",
    "plt.ylabel(\"Actual\")\n",
    "plt.title(\"Confusion Matrix\")\n",
    "plt.show()"
   ]
  },
  {
   "cell_type": "code",
   "execution_count": null,
   "metadata": {},
   "outputs": [],
   "source": [
    "# Kaplan-Meier Survival Curve\n",
    "kmf = KaplanMeierFitter()\n",
    "plt.figure(figsize=(8, 6))\n",
    "\n",
    "for group in [1, 2, 0]:\n",
    "    mask = df[\"risk_group\"] == group\n",
    "    kmf.fit(df[\"RFS_time\"][mask], event_observed=(df[\"risk_group\"] != 0))\n",
    "    kmf.plot_survival_function(label=group)\n",
    "\n",
    "plt.title(\"Kaplan-Meier Survival Curve\")\n",
    "plt.xlabel(\"Time (months)\")\n",
    "plt.ylabel(\"Survival Probability\")\n",
    "plt.legend()\n",
    "plt.show()"
   ]
  },
  {
   "cell_type": "code",
   "execution_count": null,
   "metadata": {},
   "outputs": [],
   "source": [
    "# Save Model\n",
    "with open(\"ensemble_model.pkl\", \"wb\") as f:\n",
    "    pickle.dump(ensemble, f)\n",
    "\n",
    "# Example Output: First 5 Predictions with Confidence Scores\n",
    "for i in range(5):\n",
    "    print(f\"Prediction: {y_pred[i]}, Confidence Scores: {confidence_scores[i]}\")"
   ]
  }
 ],
 "metadata": {
  "kernelspec": {
   "display_name": "base",
   "language": "python",
   "name": "python3"
  },
  "language_info": {
   "codemirror_mode": {
    "name": "ipython",
    "version": 3
   },
   "file_extension": ".py",
   "mimetype": "text/x-python",
   "name": "python",
   "nbconvert_exporter": "python",
   "pygments_lexer": "ipython3",
   "version": "3.12.4"
  }
 },
 "nbformat": 4,
 "nbformat_minor": 2
}
